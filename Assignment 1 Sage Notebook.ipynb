{
 "cells": [
  {
   "cell_type": "markdown",
   "metadata": {},
   "source": [
    "## Session 1.1 & 1.2"
   ]
  },
  {
   "cell_type": "markdown",
   "metadata": {},
   "source": [
    "### 1.1"
   ]
  },
  {
   "cell_type": "code",
   "execution_count": null,
   "metadata": {},
   "outputs": [],
   "source": [
    "# (A)\n",
    "\n",
    "# Define matrix a\n",
    "matrix_a = matrix([[1,1,1], [1,3,-1], [3,5,4]])\n",
    "augment_a = vector((3,1,10))\n",
    "full_a = matrix_a.augment(augment_a)\n",
    "show(full_a)\n",
    "\n",
    "# Show RREf\n",
    "show(full_a.rref())\n",
    "\n",
    "# Solve system\n",
    "try:\n",
    "    show(matrix_a.solve_right(augment_a))\n",
    "except ValueError:\n",
    "    print(\"System has no solutions\")"
   ]
  },
  {
   "cell_type": "code",
   "execution_count": null,
   "metadata": {},
   "outputs": [],
   "source": [
    "# (B)\n",
    "\n",
    "# Define matrix b\n",
    "matrix_b = matrix([[2,-4,8], [1,-1,1], [3,-4,6]])\n",
    "augment_b = vector((4,4,7))\n",
    "full_b = matrix_b.augment(augment_b)\n",
    "show(full_b)\n",
    "\n",
    "# Show RREf\n",
    "show(full_b.rref())\n",
    "\n",
    "# Solve system\n",
    "try:\n",
    "    show(matrix_b.solve_right(augment_b))\n",
    "except ValueError:\n",
    "    print(\"System has no solutions\")"
   ]
  },
  {
   "cell_type": "code",
   "execution_count": null,
   "metadata": {},
   "outputs": [],
   "source": [
    "# (C)\n",
    "\n",
    "# Define matrix c\n",
    "matrix_c = matrix([[2,2,6], [6,9,-3], [10,14,2]])\n",
    "augment_c = vector((2,9,14))\n",
    "full_c = matrix_c.augment(augment_c)\n",
    "show(full_c)\n",
    "\n",
    "# Show RREf\n",
    "show(full_c.rref())\n",
    "\n",
    "# Solve system\n",
    "# Note that when there are infinitely many solutions, solve_right still gives one answer.\n",
    "try:\n",
    "    show(matrix_c.solve_right(augment_c))\n",
    "except ValueError:\n",
    "    print(\"System has no solutions\")"
   ]
  },
  {
   "cell_type": "markdown",
   "metadata": {},
   "source": [
    "### 1.2"
   ]
  },
  {
   "cell_type": "code",
   "execution_count": null,
   "metadata": {},
   "outputs": [],
   "source": [
    "var(\"a, b, c, d\")\n",
    "mat = matrix([[1,2,3,a], [0,4,5,b], [0,0,d,c]])\n",
    "show(mat.rref())\n",
    "\n",
    "# Based on the RREF form, a and b has no effect on solvability; they can be anything. If d = 0 and c !- 0 => no solutions\n",
    "# If c = d = 0 => infinitely many solutions"
   ]
  },
  {
   "cell_type": "markdown",
   "metadata": {},
   "source": [
    "### 1.3"
   ]
  },
  {
   "cell_type": "code",
   "execution_count": null,
   "metadata": {},
   "outputs": [],
   "source": [
    "# This is true. There are two cases\n",
    "# One solution: (0,0,0)\n",
    "mat_a = matrix([[1,0,0,0],[0,1,0,0],[0,0,1,0]])\n",
    "show(mat_a)\n",
    "\n",
    "# Infinitely many solutions\n",
    "mat_b = matrix([[1,0,0,0],[0,1,0,0],[0,0,0,0]])\n",
    "show(mat_b)"
   ]
  },
  {
   "cell_type": "markdown",
   "metadata": {},
   "source": [
    "## Session 2.1 & 2.2"
   ]
  },
  {
   "cell_type": "markdown",
   "metadata": {},
   "source": [
    "### 2.1"
   ]
  },
  {
   "cell_type": "code",
   "execution_count": null,
   "metadata": {},
   "outputs": [],
   "source": [
    "# (A)\n",
    "\n",
    "# Define matrix a\n",
    "matrix_a = matrix([[1,1,1], [1,3,-1], [3,5,4]])\n",
    "augment_a = vector((3,1,10))\n",
    "full_a = matrix_a.augment(augment_a)\n",
    "\n",
    "# Show RREF\n",
    "show(full_a.rref())\n",
    "\n",
    "transform_matrix =  matrix([[1,0,0], [0,1,1], [0,0,1]])*\\\n",
    "                    matrix([[1,0,-2], [0,1,0], [0,0,1]])*\\\n",
    "                    matrix([[1,0,0], [0,1,0], [0,0,1/3]])*\\\n",
    "                    matrix([[1,-1,0], [0,1,0], [0,0,1]])*\\\n",
    "                    matrix([[1,0,0], [0,1/2,0], [0,0,1]])*\\\n",
    "                    matrix([[1,0,0], [0,1,0], [0,-1,1]])*\\\n",
    "                    matrix([[1,0,0], [0,1,0], [-3,0,1]])*\\\n",
    "                    matrix([[1,0,0], [-1,1,0], [0,0,1]])\n",
    "\n",
    "# Transformed using elementary matrices\n",
    "show(transform_matrix * full_a)\n",
    "\n",
    "# Inverse == product of all elementary matrices\n",
    "matrix_a.inverse() == transform_matrix"
   ]
  },
  {
   "cell_type": "code",
   "execution_count": null,
   "metadata": {},
   "outputs": [],
   "source": [
    "# (B)\n",
    "\n",
    "# Define matrix b\n",
    "matrix_b = matrix([[2,-4,8], [1,-1,1], [3,-4,6]])\n",
    "augment_b = vector((4,4,7))\n",
    "full_b = matrix_b.augment(augment_b)\n",
    "\n",
    "# Show RREf\n",
    "show(full_b.rref())\n",
    "\n",
    "transform_matrix =  matrix([[1,0,0], [0,1,-2], [0,0,1]])*\\\n",
    "                    matrix([[1,0,0], [0,1,0], [0,0,-1/3]])*\\\n",
    "                    matrix([[1,0,2], [0,1,0], [0,0,1]])*\\\n",
    "                    matrix([[1,0,0], [0,1,0], [0,-2,1]])*\\\n",
    "                    matrix([[1,2,0], [0,1,0], [0,0,1]])*\\\n",
    "                    matrix([[1,0,0], [0,1,0], [-3,0,1]])*\\\n",
    "                    matrix([[1,0,0], [-1,1,0], [0,0,1]])*\\\n",
    "                    matrix([[1/2,0,0], [0,1,0], [0,0,1]])\n",
    "\n",
    "# Transformed using elementary matrices\n",
    "show(transform_matrix * full_b)  \n",
    "\n",
    "# Matrix is singular, does not have an inverse"
   ]
  },
  {
   "cell_type": "code",
   "execution_count": null,
   "metadata": {},
   "outputs": [],
   "source": [
    "# (C)\n",
    "\n",
    "# Define matrix c\n",
    "matrix_c = matrix([[2,2,6], [6,9,-3], [10,14,2]])\n",
    "augment_c = vector((2,9,14))\n",
    "full_c = matrix_c.augment(augment_c)\n",
    "\n",
    "# Show RREf\n",
    "show(full_c.rref())\n",
    "\n",
    "transform_matrix =  matrix([[1,0,0], [0,1,0], [0,-4,1]])*\\\n",
    "                    matrix([[1,-1,0], [0,1,0], [0,0,1]])*\\\n",
    "                    matrix([[1,0,0], [0,1/3,0], [0,0,1]])*\\\n",
    "                    matrix([[1/2,0,0], [0,1,0], [0,0,1]])*\\\n",
    "                    matrix([[1,0,0], [0,1,0], [-5,0,1]])*\\\n",
    "                    matrix([[1,0,0], [-3,1,0], [0,0,1]])\n",
    "\n",
    "# Transformed using elementary matrices\n",
    "show(transform_matrix * full_c)\n",
    "\n",
    "# Matrix is singular, does not have an inverse"
   ]
  },
  {
   "cell_type": "markdown",
   "metadata": {},
   "source": [
    "### 2.2"
   ]
  },
  {
   "cell_type": "code",
   "execution_count": null,
   "metadata": {},
   "outputs": [],
   "source": [
    "# (A)\n",
    "var(\"a,b,c,d,e,f,g,h\")\n",
    "\n",
    "# One example:\n",
    "a = d = f = g = 0\n",
    "b = e = 1\n",
    "c = h = -1\n",
    "\n",
    "mat_b = matrix(2,2,[a,b,c,d])\n",
    "mat_c = matrix(2,2,[e,f,g,h])\n",
    "show(mat_b*mat_c)\n",
    "show(-mat_c*mat_b)"
   ]
  },
  {
   "cell_type": "code",
   "execution_count": null,
   "metadata": {},
   "outputs": [],
   "source": [
    "# (B)\n",
    "\n",
    "var(\"a,b,c,d\")\n",
    "\n",
    "mat_m = matrix(2,2,[a,b,c,d])\n",
    "show(mat_m**2)\n",
    "\n",
    "# a^2 = d^2\n",
    "\n",
    "# Try a = d = 1\n",
    "a = d = 1\n",
    "mat_m = matrix(2,2,[a,b,c,d])\n",
    "show(mat_m**2)  # In this case, there is no choice for b and c to make M^2 = 0\n",
    "\n",
    "# Try a = 1, d = -1\n",
    "a, d = 1, -1\n",
    "mat_m = matrix(2,2,[a,b,c,d])\n",
    "show(mat_m**2)  # In this case, b = 1, c = -1 satisfies\n",
    "\n",
    "# Try a = b = 1, c = d = -1\n",
    "a = b = 1\n",
    "c = d = -1\n",
    "mat_m = matrix(2,2,[a,b,c,d])\n",
    "show(mat_m**2)  # Works!"
   ]
  },
  {
   "cell_type": "code",
   "execution_count": null,
   "metadata": {},
   "outputs": [],
   "source": [
    "# (C)\n",
    "mat_a = matrix(2,2,[1,2,3,4])\n",
    "mat_b = matrix(2,2,[1,2,-3,-4])\n",
    "\n",
    "# A and B are invertible\n",
    "show(mat_a.inverse())\n",
    "show(mat_b.inverse())\n",
    "\n",
    "# But A + B is not\n",
    "try:\n",
    "    show((mat_a + mat_b).inverse())\n",
    "except ZeroDivisionError:\n",
    "    print(\"Not invertible\")\n",
    "    \n",
    "# Explanation: The bottom row have only zeroes"
   ]
  },
  {
   "cell_type": "code",
   "execution_count": null,
   "metadata": {},
   "outputs": [],
   "source": [
    "# (D)\n",
    "mat_a = matrix(2,2,[0,0,3,4])\n",
    "mat_b = matrix(2,2,[1,2,0,0])\n",
    "\n",
    "# Both A and B have rows of zeroes, so not invertible\n",
    "# But A + B is invertible\n",
    "\n",
    "show((mat_a + mat_b).inverse())"
   ]
  },
  {
   "cell_type": "markdown",
   "metadata": {},
   "source": [
    "## Session 3.1 & 3.2"
   ]
  },
  {
   "cell_type": "markdown",
   "metadata": {},
   "source": [
    "### 3.1"
   ]
  },
  {
   "cell_type": "code",
   "execution_count": null,
   "metadata": {},
   "outputs": [],
   "source": [
    "# (A)\n",
    "mat = matrix(3,3, [1,1,0,1,1,0,0,1,1])\n",
    "show(mat.det()) # Determinant is zero, but the cofactors are not"
   ]
  },
  {
   "cell_type": "code",
   "execution_count": null,
   "metadata": {},
   "outputs": [],
   "source": [
    "# (B)\n",
    "mat = matrix(3,3, [1,0,1,1,1,0,0,1,1])\n",
    "mat.det()  # Entries are all 0s and 1s but determinant is 2"
   ]
  },
  {
   "cell_type": "code",
   "execution_count": null,
   "metadata": {},
   "outputs": [],
   "source": [
    "# (C)\n",
    "mat_a = matrix(3,3, [1,0,1,1,1,0,0,1,1])\n",
    "mat_b = matrix(3,3, [2,0,1,1,1,0,0,1,1])\n",
    "\n",
    "mat_b.det()*2 == mat_a.det()  # Not the same"
   ]
  },
  {
   "cell_type": "code",
   "execution_count": null,
   "metadata": {},
   "outputs": [],
   "source": [
    "# (D) Proof done by hand"
   ]
  },
  {
   "cell_type": "markdown",
   "metadata": {},
   "source": [
    "### 3.2"
   ]
  },
  {
   "cell_type": "code",
   "execution_count": null,
   "metadata": {},
   "outputs": [],
   "source": [
    "# (A)  Still need to do proof by hand, but this shows the general example\n",
    "mat_a = matrix(2,2, [a,b,c,d])\n",
    "mat_b = matrix(2,2, [e,f,0,0])\n",
    "\n",
    "try:\n",
    "    (mat_a * mat_b).inverse()\n",
    "except ZeroDivisionError:\n",
    "    print(\"Not invertible\")"
   ]
  },
  {
   "cell_type": "code",
   "execution_count": null,
   "metadata": {},
   "outputs": [],
   "source": [
    "# (B)  Still need to do proof by hand, but this shows the general example\n",
    "mat_a = matrix(2,2, [a,b,0,0])\n",
    "\n",
    "def is_singular(mat):\n",
    "    try:\n",
    "        mat.inverse()\n",
    "        return False\n",
    "    except ZeroDivisionError:\n",
    "        return True\n",
    "\n",
    "is_singular(mat_a) and is_singular(mat_a.transpose())"
   ]
  }
 ],
 "metadata": {
  "kernelspec": {
   "display_name": "SageMath 8.3",
   "language": "",
   "name": "sagemath"
  },
  "language_info": {
   "codemirror_mode": {
    "name": "ipython",
    "version": 2
   },
   "file_extension": ".py",
   "mimetype": "text/x-python",
   "name": "python",
   "nbconvert_exporter": "python",
   "pygments_lexer": "ipython2",
   "version": "2.7.15"
  }
 },
 "nbformat": 4,
 "nbformat_minor": 2
}
